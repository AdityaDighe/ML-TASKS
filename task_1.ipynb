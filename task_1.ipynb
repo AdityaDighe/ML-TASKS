{
  "nbformat": 4,
  "nbformat_minor": 0,
  "metadata": {
    "colab": {
      "provenance": [],
      "authorship_tag": "ABX9TyN0nr+ONlkktUPCLIb9bmQX",
      "include_colab_link": true
    },
    "kernelspec": {
      "name": "python3",
      "display_name": "Python 3"
    },
    "language_info": {
      "name": "python"
    }
  },
  "cells": [
    {
      "cell_type": "markdown",
      "metadata": {
        "id": "view-in-github",
        "colab_type": "text"
      },
      "source": [
        "<a href=\"https://colab.research.google.com/github/AdityaDighe/ML-TASKS/blob/main/task_1.ipynb\" target=\"_parent\"><img src=\"https://colab.research.google.com/assets/colab-badge.svg\" alt=\"Open In Colab\"/></a>"
      ]
    },
    {
      "cell_type": "markdown",
      "source": [
        "1. PLAYING WITH BUILT-INS"
      ],
      "metadata": {
        "id": "cTr5aQNmsCdI"
      }
    },
    {
      "cell_type": "code",
      "source": [
        "modern_family = ['CLaiRe_DunPhY', 'PHiL_dUnpHY', 'GLoRiA_PriTCheTt', 'CaMErOn_TuCKEr', 'StELLa']\n",
        "for i in range(len(modern_family)):\n",
        "    modern_family[i]=modern_family[i].lower().replace('_','-')\n",
        "    temp=list(map(lambda x:len(x),modern_family))\n",
        "modern_family= dict(list(enumerate(modern_family)))\n",
        "indices=list(modern_family)\n",
        "characters=list(modern_family.values())\n",
        "for i in range(len(indices)):\n",
        "    indices.append(indices[0]+temp[i])\n",
        "    indices.pop(0)\n",
        "indices.sort(reverse=True)  \n",
        "Phew_finally=dict(zip(indices,characters))\n",
        "print(Phew_finally)"
      ],
      "metadata": {
        "colab": {
          "base_uri": "https://localhost:8080/"
        },
        "id": "CTiQGKDZsQZr",
        "outputId": "c2aa70a0-a03d-44aa-da13-0146cfb093fc"
      },
      "execution_count": 1,
      "outputs": [
        {
          "output_type": "stream",
          "name": "stdout",
          "text": [
            "{18: 'claire-dunphy', 17: 'phil-dunphy', 13: 'gloria-pritchett', 12: 'cameron-tucker', 10: 'stella'}\n"
          ]
        }
      ]
    },
    {
      "cell_type": "markdown",
      "source": [
        "2. RED LIGHT, GREEN LIGHT!"
      ],
      "metadata": {
        "id": "QfPG8oE9sqvw"
      }
    },
    {
      "cell_type": "code",
      "source": [
        "creepy_doll = ['red_light', 'green_light', 'red_light', 'you_got_shot', 'green_light', 'you_got_shot',\n",
        "'you_got_shot', 'green_light', 'you_ got_shot', 'red_light', 'green_light', 'red_light', 'you_got_shot',\n",
        "'green_light','red_light', 'red_light', 'green_light', 'you_got_shot','red_light', 'you_got_shot']\n",
        "next_game=creepy_doll[1:17:3]\n",
        "print(next_game)"
      ],
      "metadata": {
        "colab": {
          "base_uri": "https://localhost:8080/"
        },
        "id": "RD9qK5xEs2Xd",
        "outputId": "ff23e3fd-d34a-411a-ef17-ef192fab6a36"
      },
      "execution_count": 2,
      "outputs": [
        {
          "output_type": "stream",
          "name": "stdout",
          "text": [
            "['green_light', 'green_light', 'green_light', 'green_light', 'green_light', 'green_light']\n"
          ]
        }
      ]
    },
    {
      "cell_type": "markdown",
      "source": [
        "3. TATAKAE!"
      ],
      "metadata": {
        "id": "HGqOpz-xs5zk"
      }
    },
    {
      "cell_type": "code",
      "source": [
        "class Titandex:\n",
        "    def __init__(self,name,height,strength):\n",
        "        self.name=name\n",
        "        self.height=height\n",
        "        self.strength=strength\n",
        "        self.winning_streak=0\n",
        "   \n",
        "    def titanvsscout(self,scout_name,scout_strength):\n",
        "        temp=0\n",
        "        if self.strength>scout_strength:\n",
        "                print('{} wins and beats {}'.format(self.name,scout_name))\n",
        "                temp=self.winning_streak\n",
        "                self.winning_streak=temp+1\n",
        "        elif self.strength==scout_strength:\n",
        "                print('Draw')\n",
        "                self.winning_streak=temp\n",
        "        else:\n",
        "                print('{} wins and beats'.format(scout_name,self.name))\n",
        "                self.winning_streak=temp\n",
        "               \n",
        "    def titanvstitan(self,other):\n",
        "        temp=0\n",
        "        if self.name==other.name:\n",
        "            print('Invalid as the entered titan is same')\n",
        "        elif self.strength>other.strength:\n",
        "                print('{} wins and beats{}'.format(self.name,other.name))\n",
        "                other.winning_streak=temp\n",
        "                temp=self.winning_streak\n",
        "                self.winning_streak=temp+1\n",
        "        elif self.strength==other.strength:\n",
        "                print('Draw')\n",
        "                self.winning_streak=temp\n",
        "                other.winning_streak=temp\n",
        "        else:\n",
        "                print('{} wins and beats {}'.format(other.name,self.name))\n",
        "                self.winning_streak=temp\n",
        "                temp=other.winning_streak\n",
        "                other.winning_streak=temp+1\n",
        "\n",
        "titan_1=Titandex('Founding Titan',13,350)\n",
        "titan_2=Titandex('Attack Titan',15,275)\n",
        "titan_3=Titandex('Armored Titan',15,250)\n",
        "titan_4=Titandex('Colossal Titan',60,300)\n",
        "titan_5=Titandex('War Hammer Titan',15,235)\n",
        "titan_6=Titandex('Beast Titan',17,250)\n",
        "titan_7=Titandex('Cart Titan',4,175)\n",
        "titan_8=Titandex('Female Titan',14,270)\n",
        "titan_9=Titandex('Jaw Titan',5,225)\n",
        "\n",
        "\n",
        "titan_6.titanvsscout('Sasha',200)\n",
        "print(titan_6.winning_streak)\n",
        "titan_6.titanvsscout('Levi',300)\n",
        "print(titan_6.winning_streak)\n",
        "titan_1.titanvstitan(titan_4)\n",
        "print(titan_1.winning_streak)\n",
        "print(titan_4.winning_streak)\n"
      ],
      "metadata": {
        "colab": {
          "base_uri": "https://localhost:8080/"
        },
        "id": "q5Girv9YtBXP",
        "outputId": "ee1ef8de-ebfd-42b5-c669-0a9ca6a1b1ee"
      },
      "execution_count": 3,
      "outputs": [
        {
          "output_type": "stream",
          "name": "stdout",
          "text": [
            "Beast Titan wins and beats Sasha\n",
            "1\n",
            "Levi wins and beats\n",
            "0\n",
            "Founding Titan wins and beatsColossal Titan\n",
            "1\n",
            "0\n"
          ]
        }
      ]
    }
  ]
}